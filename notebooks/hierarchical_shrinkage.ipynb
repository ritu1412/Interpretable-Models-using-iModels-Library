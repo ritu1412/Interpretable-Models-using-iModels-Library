{
 "cells": [
  {
   "cell_type": "markdown",
   "metadata": {},
   "source": [
    "# AIPI 590 - XAI | Assignment #4\n",
    "### Using iModels Library (HSTreeClassifierCV) to build Interpretable Model for Credit card data\n",
    "### Ritu Toshniwal\n",
    "\n",
    "[![Open In Collab](https://colab.research.google.com/assets/colab-badge.svg)](https://colab.research.google.com/github/ritu1412/Interpretable-Models-using-iModels-Library/blob/main/notebooks/hierarchical_shrinkage.ipynb)"
   ]
  },
  {
   "cell_type": "code",
   "execution_count": 1,
   "metadata": {},
   "outputs": [],
   "source": [
    "import warnings\n",
    "warnings.filterwarnings('ignore')\n",
    "from sklearn.model_selection import train_test_split\n",
    "from imodels import get_clean_dataset, HSTreeClassifierCV\n"
   ]
  },
  {
   "cell_type": "code",
   "execution_count": null,
   "metadata": {},
   "outputs": [],
   "source": [
    "import os\n",
    "\n",
    "# Remove Colab default sample_data\n",
    "!rm -r ./sample_data\n",
    "\n",
    "# Clone GitHub files to colab workspace\n",
    "repo_name = \"Interpretable-Models-using-iModels-Library\" \n",
    "git_path = 'https://github.com/ritu1412/Interpretable-Models-using-iModels-Library.git' #Change to your path\n",
    "!git clone \"{git_path}\"\n",
    "\n",
    "# Install dependencies from requirements.txt file\n",
    "!pip install -r \"{os.path.join(repo_name,'requirements.txt')}\" #Add if using requirements.txt\n",
    "\n",
    "# Change working directory to location of notebook\n",
    "notebook_dir = 'notebooks'\n",
    "path_to_notebook = os.path.join(repo_name,notebook_dir)\n",
    "%cd \"{path_to_notebook}\"\n",
    "%ls"
   ]
  },
  {
   "cell_type": "code",
   "execution_count": 2,
   "metadata": {},
   "outputs": [],
   "source": [
    "# prepare data (a sample clinical dataset)\n",
    "X, y, feature_names = get_clean_dataset('credit_card_clean')\n",
    "X_train, X_test, y_train, y_test = train_test_split(\n",
    "    X, y, random_state=42)\n"
   ]
  },
  {
   "cell_type": "code",
   "execution_count": 3,
   "metadata": {},
   "outputs": [
    {
     "name": "stdout",
     "output_type": "stream",
     "text": [
      "['limit_bal', 'age', 'pay_0', 'pay_2', 'pay_3', 'pay_4', 'pay_5', 'pay_6', 'bill_amt1', 'bill_amt2', 'bill_amt3', 'bill_amt4', 'bill_amt5', 'bill_amt6', 'pay_amt1', 'pay_amt2', 'pay_amt3', 'pay_amt4', 'pay_amt5', 'pay_amt6', 'sex:1', 'sex:2', 'education:0', 'education:1', 'education:2', 'education:3', 'education:4', 'education:5', 'education:6', 'marriage:0', 'marriage:1', 'marriage:2', 'marriage:3']\n"
     ]
    }
   ],
   "source": [
    "print(feature_names)"
   ]
  },
  {
   "cell_type": "code",
   "execution_count": 4,
   "metadata": {},
   "outputs": [
    {
     "name": "stdout",
     "output_type": "stream",
     "text": [
      "> ------------------------------\n",
      "> Decision Tree with Hierarchical Shrinkage\n",
      "> \tPrediction is made by looking at the value in the appropriate leaf of the tree\n",
      "> ------------------------------\n",
      "|--- pay_0 <= 1.50\n",
      "|   |--- pay_2 <= 1.50\n",
      "|   |   |--- pay_amt3 <= 573.50\n",
      "|   |   |   |--- weights: [0.78, 0.22] class: 0.0\n",
      "|   |   |--- pay_amt3 >  573.50\n",
      "|   |   |   |--- pay_4 <= 1.50\n",
      "|   |   |   |   |--- limit_bal <= 75000.00\n",
      "|   |   |   |   |   |--- weights: [0.84, 0.16] class: 0.0\n",
      "|   |   |   |   |--- limit_bal >  75000.00\n",
      "|   |   |   |   |   |--- weights: [0.91, 0.09] class: 0.0\n",
      "|   |   |   |--- pay_4 >  1.50\n",
      "|   |   |   |   |--- weights: [0.64, 0.36] class: 0.0\n",
      "|   |--- pay_2 >  1.50\n",
      "|   |   |--- weights: [0.58, 0.42] class: 0.0\n",
      "|--- pay_0 >  1.50\n",
      "|   |--- weights: [0.30, 0.70] class: 1.0\n",
      "\n"
     ]
    }
   ],
   "source": [
    "model = HSTreeClassifierCV(max_leaf_nodes=6)\n",
    "model.fit(X_train, y_train, feature_names=feature_names)\n",
    "preds = model.predict(X_test) # discrete predictions: shape is (n_test, 1)\n",
    "preds_proba = model.predict_proba(X_test) # predicted probabilities: shape is (n_test, n_classes)\n",
    "print(model) # print the model"
   ]
  },
  {
   "cell_type": "code",
   "execution_count": 5,
   "metadata": {},
   "outputs": [
    {
     "data": {
      "text/plain": [
       "{'reg_param': np.float64(0.0),\n",
       " 'estimator_': DecisionTreeClassifier(max_leaf_nodes=6),\n",
       " 'shrinkage_scheme_': 'node_based',\n",
       " 'max_leaf_nodes': 6}"
      ]
     },
     "execution_count": 5,
     "metadata": {},
     "output_type": "execute_result"
    }
   ],
   "source": [
    "model.get_params()"
   ]
  },
  {
   "cell_type": "code",
   "execution_count": 6,
   "metadata": {},
   "outputs": [
    {
     "data": {
      "text/plain": [
       "array([0.e+00, 1.e-01, 1.e+00, 1.e+01, 5.e+01, 1.e+02, 5.e+02])"
      ]
     },
     "execution_count": 6,
     "metadata": {},
     "output_type": "execute_result"
    }
   ],
   "source": [
    "model.reg_param_list"
   ]
  },
  {
   "cell_type": "code",
   "execution_count": 7,
   "metadata": {},
   "outputs": [
    {
     "data": {
      "text/plain": [
       "array([0, 1])"
      ]
     },
     "execution_count": 7,
     "metadata": {},
     "output_type": "execute_result"
    }
   ],
   "source": [
    "model.classes_"
   ]
  },
  {
   "cell_type": "code",
   "execution_count": 8,
   "metadata": {},
   "outputs": [
    {
     "data": {
      "text/plain": [
       "0.8196"
      ]
     },
     "execution_count": 8,
     "metadata": {},
     "output_type": "execute_result"
    }
   ],
   "source": [
    "model.score(X_test, y_test)"
   ]
  }
 ],
 "metadata": {
  "kernelspec": {
   "display_name": "env",
   "language": "python",
   "name": "python3"
  },
  "language_info": {
   "codemirror_mode": {
    "name": "ipython",
    "version": 3
   },
   "file_extension": ".py",
   "mimetype": "text/x-python",
   "name": "python",
   "nbconvert_exporter": "python",
   "pygments_lexer": "ipython3",
   "version": "3.9.6"
  }
 },
 "nbformat": 4,
 "nbformat_minor": 2
}
